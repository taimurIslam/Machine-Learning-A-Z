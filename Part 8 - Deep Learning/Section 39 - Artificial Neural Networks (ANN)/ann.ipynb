{
 "cells": [
  {
   "cell_type": "code",
   "execution_count": 1,
   "metadata": {},
   "outputs": [
    {
     "name": "stderr",
     "output_type": "stream",
     "text": [
<<<<<<< HEAD
      "D:\\Anaconda3\\lib\\site-packages\\h5py\\__init__.py:36: FutureWarning: Conversion of the second argument of issubdtype from `float` to `np.floating` is deprecated. In future, it will be treated as `np.float64 == np.dtype(float).type`.\n",
      "  from ._conv import register_converters as _register_converters\n",
=======
>>>>>>> 68b28f5db598bcd590ac2cac476902f90d170109
      "Using TensorFlow backend.\n"
     ]
    }
   ],
   "source": [
    "import numpy as np\n",
    "import matplotlib.pyplot as plt\n",
    "import pandas as pd\n",
    "from sklearn.preprocessing import LabelEncoder, OneHotEncoder, StandardScaler\n",
    "from sklearn.model_selection import train_test_split\n",
    "from sklearn.metrics import confusion_matrix\n",
    "import keras\n",
    "from keras.models import Sequential\n",
    "from keras.layers import Dense"
   ]
  },
  {
   "cell_type": "code",
   "execution_count": 2,
   "metadata": {},
   "outputs": [],
   "source": [
    "dataset = pd.read_csv('Churn_Modelling.csv')"
   ]
  },
  {
   "cell_type": "code",
   "execution_count": 3,
   "metadata": {},
   "outputs": [
    {
     "data": {
      "text/html": [
       "<div>\n",
       "<style scoped>\n",
       "    .dataframe tbody tr th:only-of-type {\n",
       "        vertical-align: middle;\n",
       "    }\n",
       "\n",
       "    .dataframe tbody tr th {\n",
       "        vertical-align: top;\n",
       "    }\n",
       "\n",
       "    .dataframe thead th {\n",
       "        text-align: right;\n",
       "    }\n",
       "</style>\n",
       "<table border=\"1\" class=\"dataframe\">\n",
       "  <thead>\n",
       "    <tr style=\"text-align: right;\">\n",
       "      <th></th>\n",
       "      <th>RowNumber</th>\n",
       "      <th>CustomerId</th>\n",
       "      <th>Surname</th>\n",
       "      <th>CreditScore</th>\n",
       "      <th>Geography</th>\n",
       "      <th>Gender</th>\n",
       "      <th>Age</th>\n",
       "      <th>Tenure</th>\n",
       "      <th>Balance</th>\n",
       "      <th>NumOfProducts</th>\n",
       "      <th>HasCrCard</th>\n",
       "      <th>IsActiveMember</th>\n",
       "      <th>EstimatedSalary</th>\n",
       "      <th>Exited</th>\n",
       "    </tr>\n",
       "  </thead>\n",
       "  <tbody>\n",
       "    <tr>\n",
       "      <th>0</th>\n",
       "      <td>1</td>\n",
       "      <td>15634602</td>\n",
       "      <td>Hargrave</td>\n",
       "      <td>619</td>\n",
       "      <td>France</td>\n",
       "      <td>Female</td>\n",
       "      <td>42</td>\n",
       "      <td>2</td>\n",
       "      <td>0.00</td>\n",
       "      <td>1</td>\n",
       "      <td>1</td>\n",
       "      <td>1</td>\n",
       "      <td>101348.88</td>\n",
       "      <td>1</td>\n",
       "    </tr>\n",
       "    <tr>\n",
       "      <th>1</th>\n",
       "      <td>2</td>\n",
       "      <td>15647311</td>\n",
       "      <td>Hill</td>\n",
       "      <td>608</td>\n",
       "      <td>Spain</td>\n",
       "      <td>Female</td>\n",
       "      <td>41</td>\n",
       "      <td>1</td>\n",
       "      <td>83807.86</td>\n",
       "      <td>1</td>\n",
       "      <td>0</td>\n",
       "      <td>1</td>\n",
       "      <td>112542.58</td>\n",
       "      <td>0</td>\n",
       "    </tr>\n",
       "    <tr>\n",
       "      <th>2</th>\n",
       "      <td>3</td>\n",
       "      <td>15619304</td>\n",
       "      <td>Onio</td>\n",
       "      <td>502</td>\n",
       "      <td>France</td>\n",
       "      <td>Female</td>\n",
       "      <td>42</td>\n",
       "      <td>8</td>\n",
       "      <td>159660.80</td>\n",
       "      <td>3</td>\n",
       "      <td>1</td>\n",
       "      <td>0</td>\n",
       "      <td>113931.57</td>\n",
       "      <td>1</td>\n",
       "    </tr>\n",
       "    <tr>\n",
       "      <th>3</th>\n",
       "      <td>4</td>\n",
       "      <td>15701354</td>\n",
       "      <td>Boni</td>\n",
       "      <td>699</td>\n",
       "      <td>France</td>\n",
       "      <td>Female</td>\n",
       "      <td>39</td>\n",
       "      <td>1</td>\n",
       "      <td>0.00</td>\n",
       "      <td>2</td>\n",
       "      <td>0</td>\n",
       "      <td>0</td>\n",
       "      <td>93826.63</td>\n",
       "      <td>0</td>\n",
       "    </tr>\n",
       "    <tr>\n",
       "      <th>4</th>\n",
       "      <td>5</td>\n",
       "      <td>15737888</td>\n",
       "      <td>Mitchell</td>\n",
       "      <td>850</td>\n",
       "      <td>Spain</td>\n",
       "      <td>Female</td>\n",
       "      <td>43</td>\n",
       "      <td>2</td>\n",
       "      <td>125510.82</td>\n",
       "      <td>1</td>\n",
       "      <td>1</td>\n",
       "      <td>1</td>\n",
       "      <td>79084.10</td>\n",
       "      <td>0</td>\n",
       "    </tr>\n",
       "  </tbody>\n",
       "</table>\n",
       "</div>"
      ],
      "text/plain": [
       "   RowNumber  CustomerId   Surname  CreditScore Geography  Gender  Age  \\\n",
       "0          1    15634602  Hargrave          619    France  Female   42   \n",
       "1          2    15647311      Hill          608     Spain  Female   41   \n",
       "2          3    15619304      Onio          502    France  Female   42   \n",
       "3          4    15701354      Boni          699    France  Female   39   \n",
       "4          5    15737888  Mitchell          850     Spain  Female   43   \n",
       "\n",
       "   Tenure    Balance  NumOfProducts  HasCrCard  IsActiveMember  \\\n",
       "0       2       0.00              1          1               1   \n",
       "1       1   83807.86              1          0               1   \n",
       "2       8  159660.80              3          1               0   \n",
       "3       1       0.00              2          0               0   \n",
       "4       2  125510.82              1          1               1   \n",
       "\n",
       "   EstimatedSalary  Exited  \n",
       "0        101348.88       1  \n",
       "1        112542.58       0  \n",
       "2        113931.57       1  \n",
       "3         93826.63       0  \n",
       "4         79084.10       0  "
      ]
     },
     "execution_count": 3,
     "metadata": {},
     "output_type": "execute_result"
    }
   ],
   "source": [
    "dataset.head()"
   ]
  },
  {
   "cell_type": "code",
   "execution_count": 4,
   "metadata": {},
   "outputs": [],
   "source": [
    "X = dataset.iloc[:, 3:13].values\n",
    "y = dataset.iloc[:, 13].values"
   ]
  },
  {
   "cell_type": "code",
   "execution_count": 5,
   "metadata": {},
   "outputs": [],
   "source": [
    "labelencoder_X_1 = LabelEncoder()\n",
    "X[:, 1] = labelencoder_X_1.fit_transform(X[:, 1])"
   ]
  },
  {
   "cell_type": "code",
   "execution_count": 6,
   "metadata": {},
   "outputs": [],
   "source": [
    "labelencoder_X_2 = LabelEncoder()\n",
    "X[:, 2] = labelencoder_X_2.fit_transform(X[:, 2])"
   ]
  },
  {
   "cell_type": "code",
   "execution_count": 7,
   "metadata": {},
   "outputs": [
    {
     "data": {
      "text/plain": [
       "array([619, 0, 0, 42, 2, 0.0, 1, 1, 1, 101348.88], dtype=object)"
      ]
     },
     "execution_count": 7,
     "metadata": {},
     "output_type": "execute_result"
    }
   ],
   "source": [
    "X[0]"
   ]
  },
  {
   "cell_type": "code",
   "execution_count": 8,
   "metadata": {},
   "outputs": [],
   "source": [
    "onehotencoder = OneHotEncoder(categorical_features= [1])\n",
    "X = onehotencoder.fit_transform(X).toarray()"
   ]
  },
  {
   "cell_type": "code",
   "execution_count": 9,
   "metadata": {},
   "outputs": [
    {
     "data": {
      "text/plain": [
       "array([1.0000000e+00, 0.0000000e+00, 0.0000000e+00, 6.1900000e+02,\n",
       "       0.0000000e+00, 4.2000000e+01, 2.0000000e+00, 0.0000000e+00,\n",
       "       1.0000000e+00, 1.0000000e+00, 1.0000000e+00, 1.0134888e+05])"
      ]
     },
     "execution_count": 9,
     "metadata": {},
     "output_type": "execute_result"
    }
   ],
   "source": [
    "X[0]"
   ]
  },
  {
   "cell_type": "code",
   "execution_count": 10,
   "metadata": {},
   "outputs": [],
   "source": [
    "X = X[:, 1:]"
   ]
  },
  {
   "cell_type": "code",
   "execution_count": 11,
   "metadata": {},
   "outputs": [
    {
     "data": {
      "text/plain": [
       "array([0.0000000e+00, 0.0000000e+00, 6.1900000e+02, 0.0000000e+00,\n",
       "       4.2000000e+01, 2.0000000e+00, 0.0000000e+00, 1.0000000e+00,\n",
       "       1.0000000e+00, 1.0000000e+00, 1.0134888e+05])"
      ]
     },
     "execution_count": 11,
     "metadata": {},
     "output_type": "execute_result"
    }
   ],
   "source": [
    "X[0]"
   ]
  },
  {
   "cell_type": "code",
   "execution_count": 12,
   "metadata": {},
   "outputs": [],
   "source": [
    "X_train, X_test, y_train, y_test = train_test_split(X, y, test_size = 0.2, random_state = 0)"
   ]
  },
  {
   "cell_type": "code",
   "execution_count": 13,
   "metadata": {},
   "outputs": [],
   "source": [
    "sc = StandardScaler()\n",
    "X_train = sc.fit_transform(X_train)\n",
    "X_test = sc.fit_transform(X_test)"
   ]
  },
  {
   "cell_type": "code",
   "execution_count": 14,
   "metadata": {},
   "outputs": [
    {
     "data": {
      "text/plain": [
       "array([[-0.5698444 ,  1.74309049,  0.16958176, ...,  0.64259497,\n",
       "        -1.03227043,  1.10643166],\n",
       "       [ 1.75486502, -0.57369368, -2.30455945, ...,  0.64259497,\n",
       "         0.9687384 , -0.74866447],\n",
       "       [-0.5698444 , -0.57369368, -1.19119591, ...,  0.64259497,\n",
       "        -1.03227043,  1.48533467],\n",
       "       ...,\n",
       "       [-0.5698444 , -0.57369368,  0.9015152 , ...,  0.64259497,\n",
       "        -1.03227043,  1.41231994],\n",
       "       [-0.5698444 ,  1.74309049, -0.62420521, ...,  0.64259497,\n",
       "         0.9687384 ,  0.84432121],\n",
       "       [ 1.75486502, -0.57369368, -0.28401079, ...,  0.64259497,\n",
       "        -1.03227043,  0.32472465]])"
      ]
     },
     "execution_count": 14,
     "metadata": {},
     "output_type": "execute_result"
    }
   ],
   "source": [
    "X_train"
   ]
  },
  {
   "cell_type": "code",
   "execution_count": 15,
   "metadata": {},
   "outputs": [],
   "source": [
    "classifier = Sequential()"
   ]
  },
  {
   "cell_type": "code",
   "execution_count": 16,
   "metadata": {},
   "outputs": [],
   "source": [
    "classifier.add(Dense(units = 6, kernel_initializer = 'uniform', activation = 'relu', input_dim = 11))"
   ]
  },
  {
   "cell_type": "code",
   "execution_count": 17,
   "metadata": {},
   "outputs": [],
   "source": [
    "classifier.add(Dense(units = 6, kernel_initializer = 'uniform', activation = 'relu'))"
   ]
  },
  {
   "cell_type": "code",
   "execution_count": 18,
   "metadata": {},
   "outputs": [],
   "source": [
    "classifier.add(Dense(units = 1, kernel_initializer = 'uniform', activation = 'sigmoid'))"
   ]
  },
  {
   "cell_type": "code",
   "execution_count": 19,
   "metadata": {},
   "outputs": [],
   "source": [
    "classifier.compile(optimizer='adam', loss= 'binary_crossentropy', metrics=['accuracy'])"
   ]
  },
  {
   "cell_type": "code",
   "execution_count": 20,
   "metadata": {},
   "outputs": [
    {
     "name": "stdout",
     "output_type": "stream",
     "text": [
      "Epoch 1/100\n",
<<<<<<< HEAD
      "8000/8000 [==============================] - 123s 15ms/step - loss: 0.4797 - acc: 0.7979\n",
      "Epoch 2/100\n",
      "8000/8000 [==============================] - 3s 431us/step - loss: 0.4173 - acc: 0.8212\n",
      "Epoch 3/100\n",
      "8000/8000 [==============================] - 4s 438us/step - loss: 0.4054 - acc: 0.8277\n",
      "Epoch 4/100\n",
      "8000/8000 [==============================] - 3s 427us/step - loss: 0.3942 - acc: 0.8306\n",
      "Epoch 5/100\n",
      "8000/8000 [==============================] - 3s 403us/step - loss: 0.3855 - acc: 0.8331\n",
      "Epoch 6/100\n",
      "8000/8000 [==============================] - 3s 406us/step - loss: 0.3792 - acc: 0.8372\n",
      "Epoch 7/100\n",
      "8000/8000 [==============================] - 3s 433us/step - loss: 0.3745 - acc: 0.8435 \n",
      "Epoch 8/100\n",
      "8000/8000 [==============================] - 3s 395us/step - loss: 0.3705 - acc: 0.8469\n",
      "Epoch 9/100\n",
      "8000/8000 [==============================] - 3s 404us/step - loss: 0.3690 - acc: 0.8450\n",
      "Epoch 10/100\n",
      "8000/8000 [==============================] - 3s 399us/step - loss: 0.3665 - acc: 0.8521\n",
      "Epoch 11/100\n",
      "8000/8000 [==============================] - 4s 470us/step - loss: 0.3639 - acc: 0.8511\n",
      "Epoch 12/100\n",
      "8000/8000 [==============================] - 3s 420us/step - loss: 0.3623 - acc: 0.8525\n",
      "Epoch 13/100\n",
      "8000/8000 [==============================] - 3s 417us/step - loss: 0.3607 - acc: 0.8524\n",
      "Epoch 14/100\n",
      "8000/8000 [==============================] - 4s 443us/step - loss: 0.3591 - acc: 0.8521\n",
      "Epoch 15/100\n",
      "8000/8000 [==============================] - 3s 392us/step - loss: 0.3576 - acc: 0.8530\n",
      "Epoch 16/100\n",
      "8000/8000 [==============================] - 3s 417us/step - loss: 0.3575 - acc: 0.8534\n",
      "Epoch 17/100\n",
      "8000/8000 [==============================] - 4s 463us/step - loss: 0.3553 - acc: 0.8529\n",
      "Epoch 18/100\n",
      "8000/8000 [==============================] - 4s 466us/step - loss: 0.3548 - acc: 0.8535\n",
      "Epoch 19/100\n",
      "8000/8000 [==============================] - 5s 584us/step - loss: 0.3539 - acc: 0.8569\n",
      "Epoch 20/100\n",
      "8000/8000 [==============================] - 4s 492us/step - loss: 0.3533 - acc: 0.8570\n",
      "Epoch 21/100\n",
      "8000/8000 [==============================] - 4s 439us/step - loss: 0.3526 - acc: 0.8557\n",
      "Epoch 22/100\n",
      "8000/8000 [==============================] - 4s 448us/step - loss: 0.3523 - acc: 0.8539\n",
      "Epoch 23/100\n",
      "8000/8000 [==============================] - 4s 509us/step - loss: 0.3515 - acc: 0.8552\n",
      "Epoch 24/100\n",
      "8000/8000 [==============================] - 4s 495us/step - loss: 0.3504 - acc: 0.8560\n",
      "Epoch 25/100\n",
      "8000/8000 [==============================] - 3s 435us/step - loss: 0.3498 - acc: 0.8566\n",
      "Epoch 26/100\n",
      "8000/8000 [==============================] - 4s 472us/step - loss: 0.3489 - acc: 0.8541\n",
      "Epoch 27/100\n",
      "8000/8000 [==============================] - 4s 506us/step - loss: 0.3478 - acc: 0.8564\n",
      "Epoch 28/100\n",
      "8000/8000 [==============================] - 4s 450us/step - loss: 0.3479 - acc: 0.8569\n",
      "Epoch 29/100\n",
      "8000/8000 [==============================] - 4s 469us/step - loss: 0.3477 - acc: 0.8544\n",
      "Epoch 30/100\n",
      "8000/8000 [==============================] - 4s 469us/step - loss: 0.3475 - acc: 0.8570\n",
      "Epoch 31/100\n",
      "8000/8000 [==============================] - 4s 482us/step - loss: 0.3472 - acc: 0.8562\n",
      "Epoch 32/100\n",
      "8000/8000 [==============================] - 4s 472us/step - loss: 0.3464 - acc: 0.8581\n",
      "Epoch 33/100\n",
      "8000/8000 [==============================] - 4s 451us/step - loss: 0.3457 - acc: 0.8565\n",
      "Epoch 34/100\n",
      "8000/8000 [==============================] - 4s 447us/step - loss: 0.3454 - acc: 0.8596\n",
      "Epoch 35/100\n",
      "8000/8000 [==============================] - 4s 479us/step - loss: 0.3451 - acc: 0.8584\n",
      "Epoch 36/100\n",
      "8000/8000 [==============================] - 4s 466us/step - loss: 0.3456 - acc: 0.8560\n",
      "Epoch 37/100\n",
      "8000/8000 [==============================] - 3s 413us/step - loss: 0.3449 - acc: 0.8600\n",
      "Epoch 38/100\n",
      "8000/8000 [==============================] - 3s 421us/step - loss: 0.3445 - acc: 0.8591\n",
      "Epoch 39/100\n",
      "8000/8000 [==============================] - 3s 423us/step - loss: 0.3448 - acc: 0.8590\n",
      "Epoch 40/100\n",
      "8000/8000 [==============================] - 3s 421us/step - loss: 0.3450 - acc: 0.8592\n",
      "Epoch 41/100\n",
      "8000/8000 [==============================] - 3s 403us/step - loss: 0.3435 - acc: 0.8614\n",
      "Epoch 42/100\n",
      "8000/8000 [==============================] - 3s 432us/step - loss: 0.3444 - acc: 0.8602\n",
      "Epoch 43/100\n",
      "8000/8000 [==============================] - 4s 483us/step - loss: 0.3436 - acc: 0.8582\n",
      "Epoch 44/100\n",
      "8000/8000 [==============================] - 4s 444us/step - loss: 0.3440 - acc: 0.8579\n",
      "Epoch 45/100\n",
      "8000/8000 [==============================] - 4s 518us/step - loss: 0.3430 - acc: 0.8585\n",
      "Epoch 46/100\n",
      "8000/8000 [==============================] - 4s 519us/step - loss: 0.3437 - acc: 0.8592\n",
      "Epoch 47/100\n",
      "8000/8000 [==============================] - 4s 468us/step - loss: 0.3431 - acc: 0.8582\n",
      "Epoch 48/100\n",
      "8000/8000 [==============================] - 4s 500us/step - loss: 0.3440 - acc: 0.8579\n",
      "Epoch 49/100\n",
      "8000/8000 [==============================] - 4s 538us/step - loss: 0.3427 - acc: 0.8602\n",
      "Epoch 50/100\n",
      "8000/8000 [==============================] - 4s 478us/step - loss: 0.3431 - acc: 0.8604\n",
      "Epoch 51/100\n",
      "8000/8000 [==============================] - 4s 453us/step - loss: 0.3430 - acc: 0.8574\n",
      "Epoch 52/100\n",
      "8000/8000 [==============================] - 3s 420us/step - loss: 0.3437 - acc: 0.8601\n",
      "Epoch 53/100\n",
      "8000/8000 [==============================] - 4s 497us/step - loss: 0.3424 - acc: 0.8607\n",
      "Epoch 54/100\n",
      "8000/8000 [==============================] - 4s 482us/step - loss: 0.3427 - acc: 0.8616\n",
      "Epoch 55/100\n",
      "8000/8000 [==============================] - 4s 501us/step - loss: 0.3425 - acc: 0.8624\n",
      "Epoch 56/100\n",
      "8000/8000 [==============================] - 4s 449us/step - loss: 0.3425 - acc: 0.8604\n",
      "Epoch 57/100\n",
      "8000/8000 [==============================] - 3s 421us/step - loss: 0.3436 - acc: 0.8591\n",
      "Epoch 58/100\n",
      "8000/8000 [==============================] - 3s 413us/step - loss: 0.3424 - acc: 0.8584\n",
      "Epoch 59/100\n",
      "8000/8000 [==============================] - 3s 428us/step - loss: 0.3435 - acc: 0.8596\n",
      "Epoch 60/100\n",
      "8000/8000 [==============================] - 3s 432us/step - loss: 0.3419 - acc: 0.8605\n",
      "Epoch 61/100\n",
      "8000/8000 [==============================] - 3s 411us/step - loss: 0.3420 - acc: 0.8584\n",
      "Epoch 62/100\n",
      "8000/8000 [==============================] - 3s 412us/step - loss: 0.3428 - acc: 0.8587\n",
      "Epoch 63/100\n",
      "8000/8000 [==============================] - 3s 414us/step - loss: 0.3426 - acc: 0.8612\n",
      "Epoch 64/100\n",
      "8000/8000 [==============================] - 4s 443us/step - loss: 0.3414 - acc: 0.8605\n",
      "Epoch 65/100\n",
      "8000/8000 [==============================] - 3s 419us/step - loss: 0.3430 - acc: 0.8609\n",
      "Epoch 66/100\n",
      "8000/8000 [==============================] - 3s 405us/step - loss: 0.3418 - acc: 0.8604\n",
      "Epoch 67/100\n",
      "8000/8000 [==============================] - 3s 414us/step - loss: 0.3421 - acc: 0.8580\n",
      "Epoch 68/100\n",
      "8000/8000 [==============================] - 3s 419us/step - loss: 0.3426 - acc: 0.8595\n",
      "Epoch 69/100\n",
      "8000/8000 [==============================] - 3s 422us/step - loss: 0.3411 - acc: 0.8625\n",
      "Epoch 70/100\n",
      "8000/8000 [==============================] - 3s 426us/step - loss: 0.3415 - acc: 0.8607\n",
      "Epoch 71/100\n",
      "8000/8000 [==============================] - 3s 418us/step - loss: 0.3421 - acc: 0.8609\n",
      "Epoch 72/100\n",
      "8000/8000 [==============================] - 4s 443us/step - loss: 0.3419 - acc: 0.8591\n",
      "Epoch 73/100\n",
      "8000/8000 [==============================] - 4s 504us/step - loss: 0.3413 - acc: 0.8610\n",
      "Epoch 74/100\n",
      "8000/8000 [==============================] - 4s 464us/step - loss: 0.3415 - acc: 0.8607\n",
      "Epoch 75/100\n",
      "8000/8000 [==============================] - 4s 444us/step - loss: 0.3413 - acc: 0.8604\n",
      "Epoch 76/100\n",
      "8000/8000 [==============================] - 4s 455us/step - loss: 0.3419 - acc: 0.8599\n",
      "Epoch 77/100\n",
      "8000/8000 [==============================] - 4s 441us/step - loss: 0.3397 - acc: 0.8620\n",
      "Epoch 78/100\n",
      "8000/8000 [==============================] - 3s 433us/step - loss: 0.3410 - acc: 0.8597\n",
      "Epoch 79/100\n",
      "8000/8000 [==============================] - 4s 439us/step - loss: 0.3412 - acc: 0.8597\n",
      "Epoch 80/100\n",
      "8000/8000 [==============================] - 4s 440us/step - loss: 0.3405 - acc: 0.8602\n",
      "Epoch 81/100\n",
      "8000/8000 [==============================] - 3s 437us/step - loss: 0.3409 - acc: 0.8610\n",
=======
      "8000/8000 [==============================] - 4s 486us/step - loss: 0.4905 - acc: 0.7951: 7s - lo\n",
      "Epoch 2/100\n",
      "8000/8000 [==============================] - 1s 143us/step - loss: 0.4272 - acc: 0.7960\n",
      "Epoch 3/100\n",
      "8000/8000 [==============================] - 1s 127us/step - loss: 0.4222 - acc: 0.7960\n",
      "Epoch 4/100\n",
      "8000/8000 [==============================] - 1s 115us/step - loss: 0.4185 - acc: 0.8176\n",
      "Epoch 5/100\n",
      "8000/8000 [==============================] - 1s 113us/step - loss: 0.4155 - acc: 0.8275\n",
      "Epoch 6/100\n",
      "8000/8000 [==============================] - 1s 113us/step - loss: 0.4137 - acc: 0.8299\n",
      "Epoch 7/100\n",
      "8000/8000 [==============================] - 1s 113us/step - loss: 0.4123 - acc: 0.8317\n",
      "Epoch 8/100\n",
      "8000/8000 [==============================] - 1s 121us/step - loss: 0.4114 - acc: 0.8307\n",
      "Epoch 9/100\n",
      "8000/8000 [==============================] - 1s 113us/step - loss: 0.4098 - acc: 0.8339\n",
      "Epoch 10/100\n",
      "8000/8000 [==============================] - 1s 113us/step - loss: 0.4090 - acc: 0.8350\n",
      "Epoch 11/100\n",
      "8000/8000 [==============================] - 1s 128us/step - loss: 0.4085 - acc: 0.8337\n",
      "Epoch 12/100\n",
      "8000/8000 [==============================] - 1s 115us/step - loss: 0.4078 - acc: 0.8355\n",
      "Epoch 13/100\n",
      "8000/8000 [==============================] - 1s 88us/step - loss: 0.4073 - acc: 0.8339\n",
      "Epoch 14/100\n",
      "8000/8000 [==============================] - 1s 85us/step - loss: 0.4063 - acc: 0.8354\n",
      "Epoch 15/100\n",
      "8000/8000 [==============================] - 1s 90us/step - loss: 0.4060 - acc: 0.8345\n",
      "Epoch 16/100\n",
      "8000/8000 [==============================] - 1s 85us/step - loss: 0.4056 - acc: 0.8340\n",
      "Epoch 17/100\n",
      "8000/8000 [==============================] - 1s 84us/step - loss: 0.4052 - acc: 0.8339\n",
      "Epoch 18/100\n",
      "8000/8000 [==============================] - 1s 80us/step - loss: 0.4054 - acc: 0.8347\n",
      "Epoch 19/100\n",
      "8000/8000 [==============================] - 1s 81us/step - loss: 0.4050 - acc: 0.8355\n",
      "Epoch 20/100\n",
      "8000/8000 [==============================] - 1s 86us/step - loss: 0.4041 - acc: 0.8342\n",
      "Epoch 21/100\n",
      "8000/8000 [==============================] - 1s 75us/step - loss: 0.4045 - acc: 0.8342\n",
      "Epoch 22/100\n",
      "8000/8000 [==============================] - 1s 74us/step - loss: 0.4037 - acc: 0.8345\n",
      "Epoch 23/100\n",
      "8000/8000 [==============================] - 1s 78us/step - loss: 0.4037 - acc: 0.8344\n",
      "Epoch 24/100\n",
      "8000/8000 [==============================] - 1s 78us/step - loss: 0.4037 - acc: 0.8346\n",
      "Epoch 25/100\n",
      "8000/8000 [==============================] - 1s 77us/step - loss: 0.4031 - acc: 0.8357\n",
      "Epoch 26/100\n",
      "8000/8000 [==============================] - 1s 78us/step - loss: 0.4032 - acc: 0.8347\n",
      "Epoch 27/100\n",
      "8000/8000 [==============================] - 1s 82us/step - loss: 0.4029 - acc: 0.8350\n",
      "Epoch 28/100\n",
      "8000/8000 [==============================] - 1s 76us/step - loss: 0.4028 - acc: 0.8352\n",
      "Epoch 29/100\n",
      "8000/8000 [==============================] - 1s 77us/step - loss: 0.4027 - acc: 0.8341\n",
      "Epoch 30/100\n",
      "8000/8000 [==============================] - 1s 80us/step - loss: 0.4026 - acc: 0.8347\n",
      "Epoch 31/100\n",
      "8000/8000 [==============================] - 1s 78us/step - loss: 0.4026 - acc: 0.8344\n",
      "Epoch 32/100\n",
      "8000/8000 [==============================] - 1s 79us/step - loss: 0.4024 - acc: 0.8337\n",
      "Epoch 33/100\n",
      "8000/8000 [==============================] - 1s 78us/step - loss: 0.4019 - acc: 0.8352\n",
      "Epoch 34/100\n",
      "8000/8000 [==============================] - 1s 78us/step - loss: 0.4023 - acc: 0.8354\n",
      "Epoch 35/100\n",
      "8000/8000 [==============================] - 1s 83us/step - loss: 0.4021 - acc: 0.8357\n",
      "Epoch 36/100\n",
      "8000/8000 [==============================] - 1s 78us/step - loss: 0.4019 - acc: 0.8356\n",
      "Epoch 37/100\n",
      "8000/8000 [==============================] - 1s 79us/step - loss: 0.4018 - acc: 0.8355\n",
      "Epoch 38/100\n",
      "8000/8000 [==============================] - 1s 78us/step - loss: 0.4019 - acc: 0.8355\n",
      "Epoch 39/100\n",
      "8000/8000 [==============================] - 1s 78us/step - loss: 0.4019 - acc: 0.8346\n",
      "Epoch 40/100\n",
      "8000/8000 [==============================] - 1s 78us/step - loss: 0.4012 - acc: 0.8339\n",
      "Epoch 41/100\n",
      "8000/8000 [==============================] - 1s 79us/step - loss: 0.4016 - acc: 0.8341\n",
      "Epoch 42/100\n",
      "8000/8000 [==============================] - 1s 83us/step - loss: 0.4013 - acc: 0.8335\n",
      "Epoch 43/100\n",
      "8000/8000 [==============================] - 1s 66us/step - loss: 0.4010 - acc: 0.8336\n",
      "Epoch 44/100\n",
      "8000/8000 [==============================] - 1s 66us/step - loss: 0.4017 - acc: 0.8356\n",
      "Epoch 45/100\n",
      "8000/8000 [==============================] - 1s 65us/step - loss: 0.4014 - acc: 0.8352\n",
      "Epoch 46/100\n",
      "8000/8000 [==============================] - 1s 64us/step - loss: 0.4011 - acc: 0.8347\n",
      "Epoch 47/100\n",
      "8000/8000 [==============================] - 1s 63us/step - loss: 0.4009 - acc: 0.8340\n",
      "Epoch 48/100\n",
      "8000/8000 [==============================] - 1s 67us/step - loss: 0.4013 - acc: 0.8354\n",
      "Epoch 49/100\n",
      "8000/8000 [==============================] - 1s 63us/step - loss: 0.4011 - acc: 0.8361\n",
      "Epoch 50/100\n",
      "8000/8000 [==============================] - 1s 64us/step - loss: 0.4008 - acc: 0.8364\n",
      "Epoch 51/100\n",
      "8000/8000 [==============================] - 1s 73us/step - loss: 0.4012 - acc: 0.8347\n",
      "Epoch 52/100\n",
      "8000/8000 [==============================] - 1s 71us/step - loss: 0.4012 - acc: 0.8361\n",
      "Epoch 53/100\n",
      "8000/8000 [==============================] - 1s 63us/step - loss: 0.4005 - acc: 0.8352\n",
      "Epoch 54/100\n",
      "8000/8000 [==============================] - 1s 64us/step - loss: 0.4006 - acc: 0.8350\n",
      "Epoch 55/100\n",
      "8000/8000 [==============================] - 1s 69us/step - loss: 0.4009 - acc: 0.8361\n",
      "Epoch 56/100\n",
      "8000/8000 [==============================] - 1s 64us/step - loss: 0.4007 - acc: 0.8349\n",
      "Epoch 57/100\n",
      "8000/8000 [==============================] - 1s 68us/step - loss: 0.4012 - acc: 0.8362\n",
      "Epoch 58/100\n",
      "8000/8000 [==============================] - 1s 74us/step - loss: 0.4005 - acc: 0.8347\n",
      "Epoch 59/100\n",
      "8000/8000 [==============================] - 1s 64us/step - loss: 0.4005 - acc: 0.8347\n",
      "Epoch 60/100\n",
      "8000/8000 [==============================] - 1s 64us/step - loss: 0.4006 - acc: 0.8360\n",
      "Epoch 61/100\n",
      "8000/8000 [==============================] - 1s 65us/step - loss: 0.4006 - acc: 0.8344\n",
      "Epoch 62/100\n",
      "8000/8000 [==============================] - 1s 66us/step - loss: 0.4006 - acc: 0.8337\n",
      "Epoch 63/100\n",
      "8000/8000 [==============================] - 1s 65us/step - loss: 0.4006 - acc: 0.8355\n",
      "Epoch 64/100\n",
      "8000/8000 [==============================] - 1s 64us/step - loss: 0.3999 - acc: 0.8351\n",
      "Epoch 65/100\n",
      "8000/8000 [==============================] - 1s 65us/step - loss: 0.4005 - acc: 0.8360\n",
      "Epoch 66/100\n",
      "8000/8000 [==============================] - 1s 65us/step - loss: 0.4005 - acc: 0.8339\n",
      "Epoch 67/100\n",
      "8000/8000 [==============================] - 1s 64us/step - loss: 0.4004 - acc: 0.8357\n",
      "Epoch 68/100\n",
      "8000/8000 [==============================] - 1s 64us/step - loss: 0.4000 - acc: 0.8334\n",
      "Epoch 69/100\n",
      "8000/8000 [==============================] - 1s 65us/step - loss: 0.4006 - acc: 0.8364\n",
      "Epoch 70/100\n",
      "8000/8000 [==============================] - 1s 64us/step - loss: 0.4002 - acc: 0.8364\n",
      "Epoch 71/100\n",
      "8000/8000 [==============================] - 1s 65us/step - loss: 0.4006 - acc: 0.8355\n",
      "Epoch 72/100\n",
      "8000/8000 [==============================] - 1s 67us/step - loss: 0.4002 - acc: 0.8344\n",
      "Epoch 73/100\n",
      "8000/8000 [==============================] - 1s 67us/step - loss: 0.4005 - acc: 0.8356\n",
      "Epoch 74/100\n",
      "8000/8000 [==============================] - 1s 66us/step - loss: 0.4004 - acc: 0.8344\n",
      "Epoch 75/100\n",
      "8000/8000 [==============================] - 1s 64us/step - loss: 0.4001 - acc: 0.8354\n",
      "Epoch 76/100\n",
      "8000/8000 [==============================] - 1s 66us/step - loss: 0.4004 - acc: 0.8347\n",
      "Epoch 77/100\n",
      "8000/8000 [==============================] - 1s 72us/step - loss: 0.4003 - acc: 0.8346\n",
      "Epoch 78/100\n",
      "8000/8000 [==============================] - 1s 69us/step - loss: 0.4000 - acc: 0.8350\n",
      "Epoch 79/100\n",
      "8000/8000 [==============================] - 1s 65us/step - loss: 0.4001 - acc: 0.8365\n",
      "Epoch 80/100\n",
      "8000/8000 [==============================] - 1s 70us/step - loss: 0.3999 - acc: 0.8354\n",
      "Epoch 81/100\n",
      "8000/8000 [==============================] - 1s 63us/step - loss: 0.3998 - acc: 0.8342\n",
<<<<<<< HEAD
>>>>>>> 68b28f5db598bcd590ac2cac476902f90d170109
      "Epoch 82/100\n"
     ]
    },
    {
     "name": "stdout",
     "output_type": "stream",
     "text": [
<<<<<<< HEAD
      "8000/8000 [==============================] - 4s 454us/step - loss: 0.3395 - acc: 0.8592\n",
      "Epoch 83/100\n",
      "8000/8000 [==============================] - 3s 417us/step - loss: 0.3404 - acc: 0.8612\n",
      "Epoch 84/100\n",
      "8000/8000 [==============================] - 3s 405us/step - loss: 0.3398 - acc: 0.8627\n",
      "Epoch 85/100\n",
      "8000/8000 [==============================] - 3s 388us/step - loss: 0.3399 - acc: 0.8609\n",
      "Epoch 86/100\n",
      "8000/8000 [==============================] - 3s 389us/step - loss: 0.3403 - acc: 0.8616\n",
      "Epoch 87/100\n",
      "8000/8000 [==============================] - 3s 424us/step - loss: 0.3396 - acc: 0.8612\n",
      "Epoch 88/100\n",
      "8000/8000 [==============================] - 3s 419us/step - loss: 0.3402 - acc: 0.8606\n",
      "Epoch 89/100\n",
      "8000/8000 [==============================] - 3s 387us/step - loss: 0.3396 - acc: 0.8615\n",
      "Epoch 90/100\n",
      "8000/8000 [==============================] - 3s 400us/step - loss: 0.3397 - acc: 0.8639\n",
      "Epoch 91/100\n",
      "8000/8000 [==============================] - 3s 421us/step - loss: 0.3396 - acc: 0.8607\n",
      "Epoch 92/100\n",
      "8000/8000 [==============================] - 4s 455us/step - loss: 0.3395 - acc: 0.8606\n",
      "Epoch 93/100\n",
      "8000/8000 [==============================] - 3s 435us/step - loss: 0.3396 - acc: 0.8607\n",
      "Epoch 94/100\n",
      "8000/8000 [==============================] - 3s 415us/step - loss: 0.3392 - acc: 0.8621\n",
      "Epoch 95/100\n",
      "8000/8000 [==============================] - 3s 412us/step - loss: 0.3390 - acc: 0.8619\n",
      "Epoch 96/100\n",
      "8000/8000 [==============================] - 4s 445us/step - loss: 0.3387 - acc: 0.8612\n",
      "Epoch 97/100\n",
      "8000/8000 [==============================] - 3s 416us/step - loss: 0.3386 - acc: 0.8620\n",
      "Epoch 98/100\n",
      "8000/8000 [==============================] - 3s 407us/step - loss: 0.3385 - acc: 0.8630\n",
      "Epoch 99/100\n",
      "8000/8000 [==============================] - 3s 430us/step - loss: 0.3378 - acc: 0.8621\n",
      "Epoch 100/100\n",
      "8000/8000 [==============================] - 3s 433us/step - loss: 0.3386 - acc: 0.8626\n"
=======
=======
      "Epoch 82/100\n",
>>>>>>> 4651302670e152f42b53103fcab59dbe0b4fe9ac
      "8000/8000 [==============================] - 1s 64us/step - loss: 0.4000 - acc: 0.8356\n",
      "Epoch 83/100\n",
      "8000/8000 [==============================] - 1s 65us/step - loss: 0.3997 - acc: 0.8355\n",
      "Epoch 84/100\n",
      "8000/8000 [==============================] - 1s 64us/step - loss: 0.4004 - acc: 0.8345\n",
      "Epoch 85/100\n",
      "8000/8000 [==============================] - 1s 64us/step - loss: 0.4005 - acc: 0.8336\n",
      "Epoch 86/100\n",
      "8000/8000 [==============================] - 1s 65us/step - loss: 0.3995 - acc: 0.8352\n",
      "Epoch 87/100\n",
      "8000/8000 [==============================] - 1s 64us/step - loss: 0.4003 - acc: 0.8352\n",
      "Epoch 88/100\n",
      "8000/8000 [==============================] - 1s 64us/step - loss: 0.4000 - acc: 0.8352\n",
      "Epoch 89/100\n",
      "8000/8000 [==============================] - 1s 72us/step - loss: 0.4000 - acc: 0.8344\n",
      "Epoch 90/100\n",
      "8000/8000 [==============================] - 1s 66us/step - loss: 0.4004 - acc: 0.8369\n",
      "Epoch 91/100\n",
      "8000/8000 [==============================] - 1s 68us/step - loss: 0.4003 - acc: 0.8360\n",
      "Epoch 92/100\n",
      "8000/8000 [==============================] - 1s 67us/step - loss: 0.4002 - acc: 0.8357\n",
      "Epoch 93/100\n",
      "8000/8000 [==============================] - 1s 67us/step - loss: 0.4001 - acc: 0.8351\n",
      "Epoch 94/100\n",
      "8000/8000 [==============================] - 1s 65us/step - loss: 0.3998 - acc: 0.8371\n",
      "Epoch 95/100\n",
      "8000/8000 [==============================] - 1s 63us/step - loss: 0.4000 - acc: 0.8346\n",
      "Epoch 96/100\n",
      "8000/8000 [==============================] - 1s 63us/step - loss: 0.3998 - acc: 0.8360\n",
      "Epoch 97/100\n",
      "8000/8000 [==============================] - 1s 63us/step - loss: 0.4003 - acc: 0.8361\n",
      "Epoch 98/100\n",
      "8000/8000 [==============================] - 1s 63us/step - loss: 0.3994 - acc: 0.8362\n",
      "Epoch 99/100\n",
      "8000/8000 [==============================] - 1s 74us/step - loss: 0.3998 - acc: 0.8359\n",
      "Epoch 100/100\n",
      "8000/8000 [==============================] - 1s 75us/step - loss: 0.4002 - acc: 0.8349\n"
>>>>>>> 68b28f5db598bcd590ac2cac476902f90d170109
     ]
    },
    {
     "data": {
      "text/plain": [
<<<<<<< HEAD
       "<keras.callbacks.History at 0x1a04031b940>"
=======
       "<keras.callbacks.History at 0x221d334e438>"
>>>>>>> 68b28f5db598bcd590ac2cac476902f90d170109
      ]
     },
     "execution_count": 20,
     "metadata": {},
     "output_type": "execute_result"
    }
   ],
   "source": [
    "classifier.fit(X_train, y_train, batch_size = 10, epochs=100)"
   ]
  },
  {
   "cell_type": "code",
<<<<<<< HEAD
   "execution_count": 21,
=======
   "execution_count": 22,
>>>>>>> 68b28f5db598bcd590ac2cac476902f90d170109
   "metadata": {},
   "outputs": [],
   "source": [
    "y_pred = classifier.predict(X_test)\n",
    "y_pred = (y_pred > 0.5)"
   ]
  },
  {
   "cell_type": "code",
<<<<<<< HEAD
   "execution_count": 22,
=======
   "execution_count": 23,
>>>>>>> 68b28f5db598bcd590ac2cac476902f90d170109
   "metadata": {},
   "outputs": [
    {
     "data": {
      "text/plain": [
       "array([[False],\n",
       "       [False],\n",
       "       [False],\n",
       "       ...,\n",
       "       [False],\n",
       "       [False],\n",
       "       [False]])"
      ]
     },
<<<<<<< HEAD
     "execution_count": 22,
=======
     "execution_count": 23,
>>>>>>> 68b28f5db598bcd590ac2cac476902f90d170109
     "metadata": {},
     "output_type": "execute_result"
    }
   ],
   "source": [
    "y_pred"
   ]
  },
  {
   "cell_type": "code",
<<<<<<< HEAD
   "execution_count": 23,
=======
   "execution_count": 24,
>>>>>>> 68b28f5db598bcd590ac2cac476902f90d170109
   "metadata": {},
   "outputs": [],
   "source": [
    "cm = confusion_matrix(y_test, y_pred)"
   ]
  },
  {
   "cell_type": "code",
<<<<<<< HEAD
   "execution_count": 24,
=======
   "execution_count": 25,
>>>>>>> 68b28f5db598bcd590ac2cac476902f90d170109
   "metadata": {},
   "outputs": [
    {
     "data": {
      "text/plain": [
<<<<<<< HEAD
       "array([[1533,   62],\n",
       "       [ 210,  195]], dtype=int64)"
      ]
     },
     "execution_count": 24,
=======
       "array([[1549,   46],\n",
       "       [ 274,  131]], dtype=int64)"
      ]
     },
     "execution_count": 25,
>>>>>>> 68b28f5db598bcd590ac2cac476902f90d170109
     "metadata": {},
     "output_type": "execute_result"
    }
   ],
   "source": [
    "cm"
   ]
  },
  {
   "cell_type": "code",
   "execution_count": null,
   "metadata": {},
   "outputs": [],
   "source": []
  }
 ],
 "metadata": {
  "kernelspec": {
   "display_name": "Python 3",
   "language": "python",
   "name": "python3"
  },
  "language_info": {
   "codemirror_mode": {
    "name": "ipython",
    "version": 3
   },
   "file_extension": ".py",
   "mimetype": "text/x-python",
   "name": "python",
   "nbconvert_exporter": "python",
   "pygments_lexer": "ipython3",
   "version": "3.6.5"
  }
 },
 "nbformat": 4,
 "nbformat_minor": 2
}
