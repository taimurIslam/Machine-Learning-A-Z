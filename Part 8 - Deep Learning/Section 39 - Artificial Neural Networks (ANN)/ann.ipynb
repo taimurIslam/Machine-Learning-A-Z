{
 "cells": [
  {
   "cell_type": "code",
   "execution_count": 76,
   "metadata": {},
   "outputs": [],
   "source": [
    "import numpy as np\n",
    "import matplotlib.pyplot as plt\n",
    "import pandas as pd\n",
    "from sklearn.preprocessing import LabelEncoder, OneHotEncoder, StandardScaler\n",
    "from sklearn.model_selection import train_test_split\n",
    "from sklearn.metrics import confusion_matrix\n",
    "import keras\n",
    "from keras.models import Sequential\n",
    "from keras.layers import Dense"
   ]
  },
  {
   "cell_type": "code",
   "execution_count": 53,
   "metadata": {},
   "outputs": [],
   "source": [
    "dataset = pd.read_csv('Churn_Modelling.csv')"
   ]
  },
  {
   "cell_type": "code",
   "execution_count": 54,
   "metadata": {},
   "outputs": [
    {
     "data": {
      "text/html": [
       "<div>\n",
       "<style scoped>\n",
       "    .dataframe tbody tr th:only-of-type {\n",
       "        vertical-align: middle;\n",
       "    }\n",
       "\n",
       "    .dataframe tbody tr th {\n",
       "        vertical-align: top;\n",
       "    }\n",
       "\n",
       "    .dataframe thead th {\n",
       "        text-align: right;\n",
       "    }\n",
       "</style>\n",
       "<table border=\"1\" class=\"dataframe\">\n",
       "  <thead>\n",
       "    <tr style=\"text-align: right;\">\n",
       "      <th></th>\n",
       "      <th>RowNumber</th>\n",
       "      <th>CustomerId</th>\n",
       "      <th>Surname</th>\n",
       "      <th>CreditScore</th>\n",
       "      <th>Geography</th>\n",
       "      <th>Gender</th>\n",
       "      <th>Age</th>\n",
       "      <th>Tenure</th>\n",
       "      <th>Balance</th>\n",
       "      <th>NumOfProducts</th>\n",
       "      <th>HasCrCard</th>\n",
       "      <th>IsActiveMember</th>\n",
       "      <th>EstimatedSalary</th>\n",
       "      <th>Exited</th>\n",
       "    </tr>\n",
       "  </thead>\n",
       "  <tbody>\n",
       "    <tr>\n",
       "      <th>0</th>\n",
       "      <td>1</td>\n",
       "      <td>15634602</td>\n",
       "      <td>Hargrave</td>\n",
       "      <td>619</td>\n",
       "      <td>France</td>\n",
       "      <td>Female</td>\n",
       "      <td>42</td>\n",
       "      <td>2</td>\n",
       "      <td>0.00</td>\n",
       "      <td>1</td>\n",
       "      <td>1</td>\n",
       "      <td>1</td>\n",
       "      <td>101348.88</td>\n",
       "      <td>1</td>\n",
       "    </tr>\n",
       "    <tr>\n",
       "      <th>1</th>\n",
       "      <td>2</td>\n",
       "      <td>15647311</td>\n",
       "      <td>Hill</td>\n",
       "      <td>608</td>\n",
       "      <td>Spain</td>\n",
       "      <td>Female</td>\n",
       "      <td>41</td>\n",
       "      <td>1</td>\n",
       "      <td>83807.86</td>\n",
       "      <td>1</td>\n",
       "      <td>0</td>\n",
       "      <td>1</td>\n",
       "      <td>112542.58</td>\n",
       "      <td>0</td>\n",
       "    </tr>\n",
       "    <tr>\n",
       "      <th>2</th>\n",
       "      <td>3</td>\n",
       "      <td>15619304</td>\n",
       "      <td>Onio</td>\n",
       "      <td>502</td>\n",
       "      <td>France</td>\n",
       "      <td>Female</td>\n",
       "      <td>42</td>\n",
       "      <td>8</td>\n",
       "      <td>159660.80</td>\n",
       "      <td>3</td>\n",
       "      <td>1</td>\n",
       "      <td>0</td>\n",
       "      <td>113931.57</td>\n",
       "      <td>1</td>\n",
       "    </tr>\n",
       "    <tr>\n",
       "      <th>3</th>\n",
       "      <td>4</td>\n",
       "      <td>15701354</td>\n",
       "      <td>Boni</td>\n",
       "      <td>699</td>\n",
       "      <td>France</td>\n",
       "      <td>Female</td>\n",
       "      <td>39</td>\n",
       "      <td>1</td>\n",
       "      <td>0.00</td>\n",
       "      <td>2</td>\n",
       "      <td>0</td>\n",
       "      <td>0</td>\n",
       "      <td>93826.63</td>\n",
       "      <td>0</td>\n",
       "    </tr>\n",
       "    <tr>\n",
       "      <th>4</th>\n",
       "      <td>5</td>\n",
       "      <td>15737888</td>\n",
       "      <td>Mitchell</td>\n",
       "      <td>850</td>\n",
       "      <td>Spain</td>\n",
       "      <td>Female</td>\n",
       "      <td>43</td>\n",
       "      <td>2</td>\n",
       "      <td>125510.82</td>\n",
       "      <td>1</td>\n",
       "      <td>1</td>\n",
       "      <td>1</td>\n",
       "      <td>79084.10</td>\n",
       "      <td>0</td>\n",
       "    </tr>\n",
       "  </tbody>\n",
       "</table>\n",
       "</div>"
      ],
      "text/plain": [
       "   RowNumber  CustomerId   Surname  CreditScore Geography  Gender  Age  \\\n",
       "0          1    15634602  Hargrave          619    France  Female   42   \n",
       "1          2    15647311      Hill          608     Spain  Female   41   \n",
       "2          3    15619304      Onio          502    France  Female   42   \n",
       "3          4    15701354      Boni          699    France  Female   39   \n",
       "4          5    15737888  Mitchell          850     Spain  Female   43   \n",
       "\n",
       "   Tenure    Balance  NumOfProducts  HasCrCard  IsActiveMember  \\\n",
       "0       2       0.00              1          1               1   \n",
       "1       1   83807.86              1          0               1   \n",
       "2       8  159660.80              3          1               0   \n",
       "3       1       0.00              2          0               0   \n",
       "4       2  125510.82              1          1               1   \n",
       "\n",
       "   EstimatedSalary  Exited  \n",
       "0        101348.88       1  \n",
       "1        112542.58       0  \n",
       "2        113931.57       1  \n",
       "3         93826.63       0  \n",
       "4         79084.10       0  "
      ]
     },
     "execution_count": 54,
     "metadata": {},
     "output_type": "execute_result"
    }
   ],
   "source": [
    "dataset.head()"
   ]
  },
  {
   "cell_type": "code",
   "execution_count": 55,
   "metadata": {},
   "outputs": [],
   "source": [
    "X = dataset.iloc[:, 3:13].values\n",
    "y = dataset.iloc[:, 13].values"
   ]
  },
  {
   "cell_type": "code",
   "execution_count": 56,
   "metadata": {},
   "outputs": [],
   "source": [
    "labelencoder_X_1 = LabelEncoder()\n",
    "X[:, 1] = labelencoder_X_1.fit_transform(X[:, 1])"
   ]
  },
  {
   "cell_type": "code",
   "execution_count": 57,
   "metadata": {},
   "outputs": [],
   "source": [
    "labelencoder_X_2 = LabelEncoder()\n",
    "X[:, 2] = labelencoder_X_2.fit_transform(X[:, 2])"
   ]
  },
  {
   "cell_type": "code",
   "execution_count": 58,
   "metadata": {},
   "outputs": [
    {
     "data": {
      "text/plain": [
       "array([619, 0, 0, 42, 2, 0.0, 1, 1, 1, 101348.88], dtype=object)"
      ]
     },
     "execution_count": 58,
     "metadata": {},
     "output_type": "execute_result"
    }
   ],
   "source": [
    "X[0]"
   ]
  },
  {
   "cell_type": "code",
   "execution_count": 59,
   "metadata": {},
   "outputs": [],
   "source": [
    "onehotencoder = OneHotEncoder(categorical_features= [1])\n",
    "X = onehotencoder.fit_transform(X).toarray()"
   ]
  },
  {
   "cell_type": "code",
   "execution_count": 60,
   "metadata": {},
   "outputs": [
    {
     "data": {
      "text/plain": [
       "array([1.0000000e+00, 0.0000000e+00, 0.0000000e+00, 6.1900000e+02,\n",
       "       0.0000000e+00, 4.2000000e+01, 2.0000000e+00, 0.0000000e+00,\n",
       "       1.0000000e+00, 1.0000000e+00, 1.0000000e+00, 1.0134888e+05])"
      ]
     },
     "execution_count": 60,
     "metadata": {},
     "output_type": "execute_result"
    }
   ],
   "source": [
    "X[0]"
   ]
  },
  {
   "cell_type": "code",
   "execution_count": 61,
   "metadata": {},
   "outputs": [],
   "source": [
    "X = X[:, 1:]"
   ]
  },
  {
   "cell_type": "code",
   "execution_count": 62,
   "metadata": {},
   "outputs": [
    {
     "data": {
      "text/plain": [
       "array([0.0000000e+00, 0.0000000e+00, 6.1900000e+02, 0.0000000e+00,\n",
       "       4.2000000e+01, 2.0000000e+00, 0.0000000e+00, 1.0000000e+00,\n",
       "       1.0000000e+00, 1.0000000e+00, 1.0134888e+05])"
      ]
     },
     "execution_count": 62,
     "metadata": {},
     "output_type": "execute_result"
    }
   ],
   "source": [
    "X[0]"
   ]
  },
  {
   "cell_type": "code",
   "execution_count": 63,
   "metadata": {},
   "outputs": [],
   "source": [
    "X_train, X_test, y_train, y_test = train_test_split(X, y, test_size = 0.2, random_state = 0)"
   ]
  },
  {
   "cell_type": "code",
   "execution_count": 64,
   "metadata": {},
   "outputs": [],
   "source": [
    "sc = StandardScaler()\n",
    "X_train = sc.fit_transform(X_train)\n",
    "X_test = sc.fit_transform(X_test)"
   ]
  },
  {
   "cell_type": "code",
   "execution_count": 65,
   "metadata": {},
   "outputs": [
    {
     "data": {
      "text/plain": [
       "array([[-0.5698444 ,  1.74309049,  0.16958176, ...,  0.64259497,\n",
       "        -1.03227043,  1.10643166],\n",
       "       [ 1.75486502, -0.57369368, -2.30455945, ...,  0.64259497,\n",
       "         0.9687384 , -0.74866447],\n",
       "       [-0.5698444 , -0.57369368, -1.19119591, ...,  0.64259497,\n",
       "        -1.03227043,  1.48533467],\n",
       "       ...,\n",
       "       [-0.5698444 , -0.57369368,  0.9015152 , ...,  0.64259497,\n",
       "        -1.03227043,  1.41231994],\n",
       "       [-0.5698444 ,  1.74309049, -0.62420521, ...,  0.64259497,\n",
       "         0.9687384 ,  0.84432121],\n",
       "       [ 1.75486502, -0.57369368, -0.28401079, ...,  0.64259497,\n",
       "        -1.03227043,  0.32472465]])"
      ]
     },
     "execution_count": 65,
     "metadata": {},
     "output_type": "execute_result"
    }
   ],
   "source": [
    "X_train"
   ]
  },
  {
   "cell_type": "code",
   "execution_count": 66,
   "metadata": {},
   "outputs": [],
   "source": [
    "classifier = Sequential()"
   ]
  },
  {
   "cell_type": "code",
   "execution_count": 68,
   "metadata": {},
   "outputs": [],
   "source": [
    "classifier.add(Dense(units = 6, kernel_initializer = 'uniform', activation = 'relu', input_dim = 11))"
   ]
  },
  {
   "cell_type": "code",
   "execution_count": 69,
   "metadata": {},
   "outputs": [],
   "source": [
    "classifier.add(Dense(units = 6, kernel_initializer = 'uniform', activation = 'relu'))"
   ]
  },
  {
   "cell_type": "code",
   "execution_count": 70,
   "metadata": {},
   "outputs": [],
   "source": [
    "classifier.add(Dense(units = 1, kernel_initializer = 'uniform', activation = 'sigmoid'))"
   ]
  },
  {
   "cell_type": "code",
   "execution_count": 71,
   "metadata": {},
   "outputs": [],
   "source": [
    "classifier.compile(optimizer='adam', loss= 'binary_crossentropy', metrics=['accuracy'])"
   ]
  },
  {
   "cell_type": "code",
   "execution_count": 72,
   "metadata": {},
   "outputs": [
    {
     "name": "stdout",
     "output_type": "stream",
     "text": [
      "Epoch 1/100\n",
      "8000/8000 [==============================] - 24s 3ms/step - loss: 0.4903 - acc: 0.7950\n",
      "Epoch 2/100\n",
      "8000/8000 [==============================] - 4s 440us/step - loss: 0.4305 - acc: 0.7960\n",
      "Epoch 3/100\n",
      "8000/8000 [==============================] - 3s 377us/step - loss: 0.4257 - acc: 0.7960\n",
      "Epoch 4/100\n",
      "8000/8000 [==============================] - 3s 353us/step - loss: 0.4206 - acc: 0.8154\n",
      "Epoch 5/100\n",
      "8000/8000 [==============================] - 3s 355us/step - loss: 0.4180 - acc: 0.8250\n",
      "Epoch 6/100\n",
      "8000/8000 [==============================] - 3s 357us/step - loss: 0.4158 - acc: 0.8292\n",
      "Epoch 7/100\n",
      "8000/8000 [==============================] - 3s 346us/step - loss: 0.4138 - acc: 0.8319\n",
      "Epoch 8/100\n",
      "8000/8000 [==============================] - 3s 346us/step - loss: 0.4124 - acc: 0.8310\n",
      "Epoch 9/100\n",
      "8000/8000 [==============================] - 3s 344us/step - loss: 0.4109 - acc: 0.8317\n",
      "Epoch 10/100\n",
      "8000/8000 [==============================] - 3s 344us/step - loss: 0.4100 - acc: 0.8315\n",
      "Epoch 11/100\n",
      "8000/8000 [==============================] - 3s 346us/step - loss: 0.4088 - acc: 0.8345\n",
      "Epoch 12/100\n",
      "8000/8000 [==============================] - 3s 362us/step - loss: 0.4083 - acc: 0.8339\n",
      "Epoch 13/100\n",
      "8000/8000 [==============================] - 3s 369us/step - loss: 0.4081 - acc: 0.8334\n",
      "Epoch 14/100\n",
      "8000/8000 [==============================] - 3s 358us/step - loss: 0.4071 - acc: 0.8347\n",
      "Epoch 15/100\n",
      "8000/8000 [==============================] - 3s 352us/step - loss: 0.4064 - acc: 0.8326\n",
      "Epoch 16/100\n",
      "8000/8000 [==============================] - 3s 361us/step - loss: 0.4064 - acc: 0.8345\n",
      "Epoch 17/100\n",
      "8000/8000 [==============================] - 3s 360us/step - loss: 0.4052 - acc: 0.8331\n",
      "Epoch 18/100\n",
      "8000/8000 [==============================] - 3s 354us/step - loss: 0.4050 - acc: 0.8354\n",
      "Epoch 19/100\n",
      "8000/8000 [==============================] - 3s 354us/step - loss: 0.4052 - acc: 0.8344\n",
      "Epoch 20/100\n",
      "8000/8000 [==============================] - 3s 353us/step - loss: 0.4049 - acc: 0.8357\n",
      "Epoch 21/100\n",
      "8000/8000 [==============================] - 3s 359us/step - loss: 0.4041 - acc: 0.8346\n",
      "Epoch 22/100\n",
      "8000/8000 [==============================] - 3s 356us/step - loss: 0.4043 - acc: 0.8340\n",
      "Epoch 23/100\n",
      "8000/8000 [==============================] - 3s 384us/step - loss: 0.4043 - acc: 0.8359\n",
      "Epoch 24/100\n",
      "8000/8000 [==============================] - 3s 386us/step - loss: 0.4042 - acc: 0.8355\n",
      "Epoch 25/100\n",
      "8000/8000 [==============================] - 3s 370us/step - loss: 0.4033 - acc: 0.8351\n",
      "Epoch 26/100\n",
      "8000/8000 [==============================] - 3s 388us/step - loss: 0.4029 - acc: 0.8344\n",
      "Epoch 27/100\n",
      "8000/8000 [==============================] - 3s 398us/step - loss: 0.4035 - acc: 0.8344\n",
      "Epoch 28/100\n",
      "8000/8000 [==============================] - 3s 376us/step - loss: 0.4034 - acc: 0.8357\n",
      "Epoch 29/100\n",
      "8000/8000 [==============================] - 3s 369us/step - loss: 0.4028 - acc: 0.8342\n",
      "Epoch 30/100\n",
      "8000/8000 [==============================] - 3s 365us/step - loss: 0.4022 - acc: 0.8340\n",
      "Epoch 31/100\n",
      "8000/8000 [==============================] - 3s 366us/step - loss: 0.4027 - acc: 0.8350\n",
      "Epoch 32/100\n",
      "8000/8000 [==============================] - 3s 368us/step - loss: 0.4029 - acc: 0.8351\n",
      "Epoch 33/100\n",
      "8000/8000 [==============================] - 3s 384us/step - loss: 0.4027 - acc: 0.8351\n",
      "Epoch 34/100\n",
      "8000/8000 [==============================] - 3s 369us/step - loss: 0.4018 - acc: 0.8347\n",
      "Epoch 35/100\n",
      "8000/8000 [==============================] - 3s 381us/step - loss: 0.4027 - acc: 0.8355\n",
      "Epoch 36/100\n",
      "8000/8000 [==============================] - 3s 369us/step - loss: 0.4023 - acc: 0.8339\n",
      "Epoch 37/100\n",
      "8000/8000 [==============================] - 3s 369us/step - loss: 0.4018 - acc: 0.8337\n",
      "Epoch 38/100\n",
      "8000/8000 [==============================] - 3s 367us/step - loss: 0.4026 - acc: 0.8341\n",
      "Epoch 39/100\n",
      "8000/8000 [==============================] - 3s 373us/step - loss: 0.4022 - acc: 0.8347\n",
      "Epoch 40/100\n",
      "8000/8000 [==============================] - 3s 365us/step - loss: 0.4020 - acc: 0.8345\n",
      "Epoch 41/100\n",
      "8000/8000 [==============================] - 3s 367us/step - loss: 0.4016 - acc: 0.8349\n",
      "Epoch 42/100\n",
      "8000/8000 [==============================] - 3s 364us/step - loss: 0.4021 - acc: 0.8346\n",
      "Epoch 43/100\n",
      "8000/8000 [==============================] - 3s 366us/step - loss: 0.4023 - acc: 0.8355\n",
      "Epoch 44/100\n",
      "8000/8000 [==============================] - 3s 368us/step - loss: 0.4018 - acc: 0.8356\n",
      "Epoch 45/100\n",
      "8000/8000 [==============================] - 3s 369us/step - loss: 0.4016 - acc: 0.8346\n",
      "Epoch 46/100\n",
      "8000/8000 [==============================] - 3s 373us/step - loss: 0.4017 - acc: 0.8340\n",
      "Epoch 47/100\n",
      "8000/8000 [==============================] - 3s 370us/step - loss: 0.4015 - acc: 0.8355\n",
      "Epoch 48/100\n",
      "8000/8000 [==============================] - 3s 371us/step - loss: 0.4021 - acc: 0.8340\n",
      "Epoch 49/100\n",
      "8000/8000 [==============================] - 3s 372us/step - loss: 0.4014 - acc: 0.8345\n",
      "Epoch 50/100\n",
      "8000/8000 [==============================] - 3s 375us/step - loss: 0.4014 - acc: 0.8374\n",
      "Epoch 51/100\n",
      "8000/8000 [==============================] - 3s 369us/step - loss: 0.4013 - acc: 0.8332\n",
      "Epoch 52/100\n",
      "8000/8000 [==============================] - 3s 374us/step - loss: 0.4017 - acc: 0.8359\n",
      "Epoch 53/100\n",
      "8000/8000 [==============================] - 3s 384us/step - loss: 0.4017 - acc: 0.8354\n",
      "Epoch 54/100\n",
      "8000/8000 [==============================] - 3s 384us/step - loss: 0.4012 - acc: 0.8356\n",
      "Epoch 55/100\n",
      "8000/8000 [==============================] - 3s 383us/step - loss: 0.4011 - acc: 0.8360\n",
      "Epoch 56/100\n",
      "8000/8000 [==============================] - 3s 384us/step - loss: 0.4018 - acc: 0.8332\n",
      "Epoch 57/100\n",
      "8000/8000 [==============================] - 3s 387us/step - loss: 0.4012 - acc: 0.8355\n",
      "Epoch 58/100\n",
      "8000/8000 [==============================] - 3s 387us/step - loss: 0.4013 - acc: 0.8352\n",
      "Epoch 59/100\n",
      "8000/8000 [==============================] - 3s 385us/step - loss: 0.4013 - acc: 0.8347\n",
      "Epoch 60/100\n",
      "8000/8000 [==============================] - 3s 392us/step - loss: 0.4012 - acc: 0.8346\n",
      "Epoch 61/100\n",
      "8000/8000 [==============================] - 3s 389us/step - loss: 0.4016 - acc: 0.8340\n",
      "Epoch 62/100\n",
      "8000/8000 [==============================] - 3s 388us/step - loss: 0.4016 - acc: 0.8356\n",
      "Epoch 63/100\n",
      "8000/8000 [==============================] - 3s 382us/step - loss: 0.4004 - acc: 0.8354\n",
      "Epoch 64/100\n",
      "8000/8000 [==============================] - 3s 389us/step - loss: 0.4018 - acc: 0.8362 0s - loss: 0.4005 - acc: \n",
      "Epoch 65/100\n",
      "8000/8000 [==============================] - 3s 391us/step - loss: 0.4010 - acc: 0.8352\n",
      "Epoch 66/100\n",
      "8000/8000 [==============================] - 3s 395us/step - loss: 0.4014 - acc: 0.8347\n",
      "Epoch 67/100\n",
      "8000/8000 [==============================] - 3s 390us/step - loss: 0.4010 - acc: 0.8351\n",
      "Epoch 68/100\n",
      "8000/8000 [==============================] - 3s 405us/step - loss: 0.4010 - acc: 0.8342\n",
      "Epoch 69/100\n",
      "8000/8000 [==============================] - 3s 429us/step - loss: 0.4003 - acc: 0.8354\n",
      "Epoch 70/100\n",
      "8000/8000 [==============================] - 3s 388us/step - loss: 0.4004 - acc: 0.8362\n",
      "Epoch 71/100\n",
      "8000/8000 [==============================] - 3s 355us/step - loss: 0.4009 - acc: 0.8344\n",
      "Epoch 72/100\n",
      "8000/8000 [==============================] - 4s 443us/step - loss: 0.4011 - acc: 0.8354\n",
      "Epoch 73/100\n",
      "8000/8000 [==============================] - 3s 413us/step - loss: 0.4008 - acc: 0.8349\n",
      "Epoch 74/100\n",
      "8000/8000 [==============================] - 3s 400us/step - loss: 0.4010 - acc: 0.8339\n",
      "Epoch 75/100\n",
      "8000/8000 [==============================] - 3s 421us/step - loss: 0.4005 - acc: 0.8350\n",
      "Epoch 76/100\n",
      "8000/8000 [==============================] - 3s 394us/step - loss: 0.4012 - acc: 0.8345\n",
      "Epoch 77/100\n",
      "8000/8000 [==============================] - 3s 398us/step - loss: 0.4012 - acc: 0.8346\n",
      "Epoch 78/100\n",
      "8000/8000 [==============================] - 3s 373us/step - loss: 0.4010 - acc: 0.8346\n",
      "Epoch 79/100\n",
      "8000/8000 [==============================] - 3s 375us/step - loss: 0.4010 - acc: 0.8355\n",
      "Epoch 80/100\n",
      "8000/8000 [==============================] - 3s 376us/step - loss: 0.4010 - acc: 0.8350\n",
      "Epoch 81/100\n",
      "8000/8000 [==============================] - 3s 374us/step - loss: 0.4008 - acc: 0.8356\n"
     ]
    },
    {
     "name": "stdout",
     "output_type": "stream",
     "text": [
      "Epoch 82/100\n",
      "8000/8000 [==============================] - 3s 364us/step - loss: 0.4008 - acc: 0.8355\n",
      "Epoch 83/100\n",
      "8000/8000 [==============================] - 3s 363us/step - loss: 0.4004 - acc: 0.8350\n",
      "Epoch 84/100\n",
      "8000/8000 [==============================] - 3s 363us/step - loss: 0.4002 - acc: 0.8365\n",
      "Epoch 85/100\n",
      "8000/8000 [==============================] - 3s 364us/step - loss: 0.4004 - acc: 0.8355\n",
      "Epoch 86/100\n",
      "8000/8000 [==============================] - 3s 364us/step - loss: 0.4002 - acc: 0.8357\n",
      "Epoch 87/100\n",
      "8000/8000 [==============================] - 3s 361us/step - loss: 0.4000 - acc: 0.8351\n",
      "Epoch 88/100\n",
      "8000/8000 [==============================] - 3s 362us/step - loss: 0.4005 - acc: 0.8359\n",
      "Epoch 89/100\n",
      "8000/8000 [==============================] - 3s 361us/step - loss: 0.4003 - acc: 0.8371\n",
      "Epoch 90/100\n",
      "8000/8000 [==============================] - 3s 369us/step - loss: 0.4002 - acc: 0.8352\n",
      "Epoch 91/100\n",
      "8000/8000 [==============================] - 3s 363us/step - loss: 0.4002 - acc: 0.8356\n",
      "Epoch 92/100\n",
      "8000/8000 [==============================] - 3s 364us/step - loss: 0.3998 - acc: 0.8364\n",
      "Epoch 93/100\n",
      "8000/8000 [==============================] - 3s 361us/step - loss: 0.3999 - acc: 0.8345\n",
      "Epoch 94/100\n",
      "8000/8000 [==============================] - 3s 360us/step - loss: 0.4005 - acc: 0.8347\n",
      "Epoch 95/100\n",
      "8000/8000 [==============================] - 3s 360us/step - loss: 0.4000 - acc: 0.8344 1s -\n",
      "Epoch 96/100\n",
      "8000/8000 [==============================] - 3s 362us/step - loss: 0.3995 - acc: 0.8366\n",
      "Epoch 97/100\n",
      "8000/8000 [==============================] - 3s 386us/step - loss: 0.3996 - acc: 0.8359\n",
      "Epoch 98/100\n",
      "8000/8000 [==============================] - 3s 364us/step - loss: 0.3998 - acc: 0.8350\n",
      "Epoch 99/100\n",
      "8000/8000 [==============================] - 3s 364us/step - loss: 0.4000 - acc: 0.8360\n",
      "Epoch 100/100\n",
      "8000/8000 [==============================] - 3s 363us/step - loss: 0.3994 - acc: 0.8322\n"
     ]
    },
    {
     "data": {
      "text/plain": [
       "<keras.callbacks.History at 0x225f0cedac8>"
      ]
     },
     "execution_count": 72,
     "metadata": {},
     "output_type": "execute_result"
    }
   ],
   "source": [
    "classifier.fit(X_train, y_train, batch_size = 10, epochs=100)"
   ]
  },
  {
   "cell_type": "code",
   "execution_count": 73,
   "metadata": {},
   "outputs": [],
   "source": [
    "y_pred = classifier.predict(X_test)\n",
    "y_pred = (y_pred > 0.5)"
   ]
  },
  {
   "cell_type": "code",
   "execution_count": 74,
   "metadata": {},
   "outputs": [
    {
     "data": {
      "text/plain": [
       "array([[False],\n",
       "       [False],\n",
       "       [False],\n",
       "       ...,\n",
       "       [False],\n",
       "       [False],\n",
       "       [False]])"
      ]
     },
     "execution_count": 74,
     "metadata": {},
     "output_type": "execute_result"
    }
   ],
   "source": [
    "y_pred"
   ]
  },
  {
   "cell_type": "code",
   "execution_count": 77,
   "metadata": {},
   "outputs": [],
   "source": [
    "cm = confusion_matrix(y_test, y_pred)"
   ]
  },
  {
   "cell_type": "code",
   "execution_count": 78,
   "metadata": {},
   "outputs": [
    {
     "data": {
      "text/plain": [
       "array([[1551,   44],\n",
       "       [ 275,  130]], dtype=int64)"
      ]
     },
     "execution_count": 78,
     "metadata": {},
     "output_type": "execute_result"
    }
   ],
   "source": [
    "cm"
   ]
  },
  {
   "cell_type": "code",
   "execution_count": null,
   "metadata": {},
   "outputs": [],
   "source": []
  }
 ],
 "metadata": {
  "kernelspec": {
   "display_name": "Python 3",
   "language": "python",
   "name": "python3"
  },
  "language_info": {
   "codemirror_mode": {
    "name": "ipython",
    "version": 3
   },
   "file_extension": ".py",
   "mimetype": "text/x-python",
   "name": "python",
   "nbconvert_exporter": "python",
   "pygments_lexer": "ipython3",
   "version": "3.6.5"
  }
 },
 "nbformat": 4,
 "nbformat_minor": 2
}
